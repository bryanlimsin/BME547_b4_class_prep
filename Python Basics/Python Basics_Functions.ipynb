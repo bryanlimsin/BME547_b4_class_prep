{
 "cells": [
  {
   "cell_type": "code",
   "execution_count": 1,
   "metadata": {},
   "outputs": [],
   "source": [
    "# This script follows the lecture on Python Basics: Functions"
   ]
  },
  {
   "cell_type": "code",
   "execution_count": 2,
   "metadata": {},
   "outputs": [],
   "source": [
    "# Use def to define a function follow by ()\n",
    "\n",
    "# If varible is defined within function, it is only available in that function\n",
    "# Termed variable scope\n",
    "\n",
    "\n",
    "# Parameters are what you input into the function"
   ]
  },
  {
   "cell_type": "code",
   "execution_count": 5,
   "metadata": {},
   "outputs": [
    {
     "name": "stdout",
     "output_type": "stream",
     "text": [
      "Start running code...\n",
      "What is your age?: 27\n"
     ]
    },
    {
     "ename": "NameError",
     "evalue": "name 'users_age' is not defined",
     "output_type": "error",
     "traceback": [
      "\u001b[1;31m---------------------------------------------------------------------------\u001b[0m",
      "\u001b[1;31mNameError\u001b[0m                                 Traceback (most recent call last)",
      "\u001b[1;32m<ipython-input-5-30a112e0b828>\u001b[0m in \u001b[0;36m<module>\u001b[1;34m\u001b[0m\n\u001b[0;32m     21\u001b[0m \u001b[0mprint\u001b[0m\u001b[1;33m(\u001b[0m\u001b[1;34m\"Start running code...\"\u001b[0m\u001b[1;33m)\u001b[0m\u001b[1;33m\u001b[0m\u001b[1;33m\u001b[0m\u001b[0m\n\u001b[0;32m     22\u001b[0m \u001b[0mage_define\u001b[0m\u001b[1;33m(\u001b[0m\u001b[1;33m)\u001b[0m\u001b[1;33m\u001b[0m\u001b[1;33m\u001b[0m\u001b[0m\n\u001b[1;32m---> 23\u001b[1;33m \u001b[0mage_spec\u001b[0m\u001b[1;33m(\u001b[0m\u001b[1;33m)\u001b[0m\u001b[1;33m\u001b[0m\u001b[1;33m\u001b[0m\u001b[0m\n\u001b[0m\u001b[0;32m     24\u001b[0m \u001b[1;33m\u001b[0m\u001b[0m\n\u001b[0;32m     25\u001b[0m \u001b[0mprint\u001b[0m\u001b[1;33m(\u001b[0m\u001b[1;34m\"End running code...\"\u001b[0m\u001b[1;33m)\u001b[0m\u001b[1;33m\u001b[0m\u001b[1;33m\u001b[0m\u001b[0m\n",
      "\u001b[1;32m<ipython-input-5-30a112e0b828>\u001b[0m in \u001b[0;36mage_spec\u001b[1;34m()\u001b[0m\n\u001b[0;32m      6\u001b[0m \u001b[1;33m\u001b[0m\u001b[0m\n\u001b[0;32m      7\u001b[0m \u001b[1;32mdef\u001b[0m \u001b[0mage_spec\u001b[0m\u001b[1;33m(\u001b[0m\u001b[1;33m)\u001b[0m\u001b[1;33m:\u001b[0m\u001b[1;33m\u001b[0m\u001b[1;33m\u001b[0m\u001b[0m\n\u001b[1;32m----> 8\u001b[1;33m     \u001b[1;32mif\u001b[0m \u001b[0mint\u001b[0m\u001b[1;33m(\u001b[0m\u001b[0musers_age\u001b[0m\u001b[1;33m)\u001b[0m \u001b[1;33m<\u001b[0m \u001b[1;36m25\u001b[0m\u001b[1;33m:\u001b[0m\u001b[1;33m\u001b[0m\u001b[1;33m\u001b[0m\u001b[0m\n\u001b[0m\u001b[0;32m      9\u001b[0m         \u001b[0mprint\u001b[0m\u001b[1;33m(\u001b[0m\u001b[1;34m\"Congratulations, you're still young\"\u001b[0m\u001b[1;33m)\u001b[0m\u001b[1;33m\u001b[0m\u001b[1;33m\u001b[0m\u001b[0m\n\u001b[0;32m     10\u001b[0m \u001b[1;33m\u001b[0m\u001b[0m\n",
      "\u001b[1;31mNameError\u001b[0m: name 'users_age' is not defined"
     ]
    }
   ],
   "source": [
    "# I will define a basic function\n",
    "\n",
    "def age_define():\n",
    "    users_age = input(\"What is your age?: \")\n",
    "    \n",
    "    \n",
    "def age_spec():\n",
    "    if int(users_age) < 25:\n",
    "        print(\"Congratulations, you're still young\")\n",
    "\n",
    "    elif int(users_age) == 27:\n",
    "        print(\"umm 27?, I guess you're okay. At least you're not 30 yet!\")\n",
    "\n",
    "    else: # else statements are in the same indentation level as if statements\n",
    "        print(\"oops, you're older than a quarter of a century!\")\n",
    "######################################################################################\n",
    "\n",
    "# Defined 2 basic functions above\n",
    "# Now i want to make use of them together\n",
    "\n",
    "print(\"Start running code...\")\n",
    "age_define()\n",
    "age_spec()\n",
    "\n",
    "print(\"End running code...\")"
   ]
  },
  {
   "cell_type": "code",
   "execution_count": 6,
   "metadata": {},
   "outputs": [],
   "source": [
    "# Notice the above did not run age_spec because the variable it needs is locally defined in age_define() that is in a separate code block"
   ]
  },
  {
   "cell_type": "code",
   "execution_count": 21,
   "metadata": {},
   "outputs": [
    {
     "name": "stdout",
     "output_type": "stream",
     "text": [
      "Start running code...\n",
      "What is your age?: 27\n",
      "Your age next year would be 28\n",
      "umm 27?, I guess you're okay. At least you're not 30 yet!\n",
      "End running code...\n"
     ]
    }
   ],
   "source": [
    "def age_define():\n",
    "    users_age = input(\"What is your age?: \")\n",
    "    users_age = int(users_age)\n",
    "    return users_age # still need to save this to a variable outside the function\n",
    "    \n",
    "    \n",
    "def age_next(x):\n",
    "    age_next_year = x + 1\n",
    "    print(\"Your age next year would be {}\".format(age_next_year))\n",
    "    \n",
    "def age_spec(x): # note the parameter input you use should match what you represent it in the code block for python to recognize it, in this case, it is x\n",
    "    if int(x) < 25:\n",
    "        print(\"Congratulations, you're still young\")\n",
    "\n",
    "    elif int(x) == 27:\n",
    "        print(\"umm 27?, I guess you're okay. At least you're not 30 yet!\")\n",
    "\n",
    "    else: # else statements are in the same indentation level as if statements\n",
    "        print(\"oops, you're older than a quarter of a century!\")\n",
    "######################################################################################\n",
    "\n",
    "# Defined 2 basic functions above\n",
    "# Now i want to make use of them together\n",
    "\n",
    "print(\"Start running code...\")\n",
    "age = age_define() #saving the returned value into a variable\n",
    "age_next(age)\n",
    "age_spec(age)\n",
    "\n",
    "print(\"End running code...\")"
   ]
  },
  {
   "cell_type": "code",
   "execution_count": null,
   "metadata": {},
   "outputs": [],
   "source": [
    "# If we don't specify return, python functions return None\n",
    "\n",
    "# Example\n",
    "def age_define():\n",
    "    users_age = input(\"What is your age?: \")\n",
    "    users_age = int(users_age)\n",
    "# The above returns none by default\n",
    "\n",
    "def age_define():\n",
    "    users_age = input(\"What is your age?: \")\n",
    "    users_age = int(users_age)\n",
    "    return\n",
    "# the above also returns none by default\n"
   ]
  }
 ],
 "metadata": {
  "kernelspec": {
   "display_name": "Python 3",
   "language": "python",
   "name": "python3"
  },
  "language_info": {
   "codemirror_mode": {
    "name": "ipython",
    "version": 3
   },
   "file_extension": ".py",
   "mimetype": "text/x-python",
   "name": "python",
   "nbconvert_exporter": "python",
   "pygments_lexer": "ipython3",
   "version": "3.8.3"
  }
 },
 "nbformat": 4,
 "nbformat_minor": 4
}
