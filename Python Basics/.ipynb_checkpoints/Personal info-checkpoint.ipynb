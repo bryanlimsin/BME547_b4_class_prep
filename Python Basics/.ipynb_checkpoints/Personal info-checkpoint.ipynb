{
 "cells": [
  {
   "cell_type": "code",
   "execution_count": null,
   "metadata": {},
   "outputs": [],
   "source": [
    "# This Python script will cover 3 lectures on Python on Panopto\n",
    "# Namely -- intro; if statements and code blobcks; functions\n",
    "\n",
    "# Written by Bryan Lim"
   ]
  },
  {
   "cell_type": "code",
   "execution_count": null,
   "metadata": {},
   "outputs": [],
   "source": [
    "# To convert something to string, use str()\n",
    "# To convert something to integer, use int()"
   ]
  },
  {
   "cell_type": "code",
   "execution_count": 2,
   "metadata": {},
   "outputs": [
    {
     "name": "stdout",
     "output_type": "stream",
     "text": [
      "Enter your name: Bryan\n",
      "Hi Bryan , how are you doing today?\n"
     ]
    }
   ],
   "source": [
    "# Learning about the input() function\n",
    "# It takes whatever that was entered in it as returns it as a string!!\n",
    "\n",
    "first_name = input(\"Enter your name: \")\n",
    "print(\"Hi \" + first_name + \" , how are you doing today?\")"
   ]
  },
  {
   "cell_type": "code",
   "execution_count": 5,
   "metadata": {},
   "outputs": [
    {
     "name": "stdout",
     "output_type": "stream",
     "text": [
      "How old are you this year?: 27\n",
      "Hi Bryan, wow 27 ? That's young!\n"
     ]
    }
   ],
   "source": [
    "users_age = input(\"How old are you this year?: \")\n",
    "print(\"Hi \" + first_name + \", wow \" + users_age + \" ?\" + \" That's young!\")"
   ]
  },
  {
   "cell_type": "code",
   "execution_count": null,
   "metadata": {},
   "outputs": [],
   "source": [
    "# The above are now defined as variables after the user entered their information"
   ]
  },
  {
   "cell_type": "code",
   "execution_count": 7,
   "metadata": {},
   "outputs": [
    {
     "ename": "TypeError",
     "evalue": "unsupported operand type(s) for +: 'int' and 'str'",
     "output_type": "error",
     "traceback": [
      "\u001b[1;31m---------------------------------------------------------------------------\u001b[0m",
      "\u001b[1;31mTypeError\u001b[0m                                 Traceback (most recent call last)",
      "\u001b[1;32m<ipython-input-7-d1f5527843c7>\u001b[0m in \u001b[0;36m<module>\u001b[1;34m\u001b[0m\n\u001b[0;32m      4\u001b[0m \u001b[1;33m\u001b[0m\u001b[0m\n\u001b[0;32m      5\u001b[0m \u001b[1;31m# We will try to merge it with a number\u001b[0m\u001b[1;33m\u001b[0m\u001b[1;33m\u001b[0m\u001b[1;33m\u001b[0m\u001b[0m\n\u001b[1;32m----> 6\u001b[1;33m \u001b[0mtotal_age\u001b[0m \u001b[1;33m=\u001b[0m \u001b[1;36m1\u001b[0m \u001b[1;33m+\u001b[0m \u001b[0musers_age\u001b[0m\u001b[1;33m\u001b[0m\u001b[1;33m\u001b[0m\u001b[0m\n\u001b[0m",
      "\u001b[1;31mTypeError\u001b[0m: unsupported operand type(s) for +: 'int' and 'str'"
     ]
    }
   ],
   "source": [
    "# Try concatenate a string and integer\n",
    "# Recall that users_age is a str, not an int\n",
    "type(users_age)\n",
    "\n",
    "# We will try to merge it with a number\n",
    "total_age = 1 + users_age"
   ]
  },
  {
   "cell_type": "code",
   "execution_count": 13,
   "metadata": {},
   "outputs": [
    {
     "data": {
      "text/plain": [
       "28"
      ]
     },
     "execution_count": 13,
     "metadata": {},
     "output_type": "execute_result"
    }
   ],
   "source": [
    "# The above cell leads to an error, let's try to convert users_age to an int\n",
    "users_age = int(users_age)\n",
    "total_age =  1 + users_age\n",
    "total_age # It works now"
   ]
  },
  {
   "cell_type": "code",
   "execution_count": 14,
   "metadata": {},
   "outputs": [
    {
     "ename": "TypeError",
     "evalue": "can only concatenate str (not \"int\") to str",
     "output_type": "error",
     "traceback": [
      "\u001b[1;31m---------------------------------------------------------------------------\u001b[0m",
      "\u001b[1;31mTypeError\u001b[0m                                 Traceback (most recent call last)",
      "\u001b[1;32m<ipython-input-14-2ddfd4ba88ee>\u001b[0m in \u001b[0;36m<module>\u001b[1;34m\u001b[0m\n\u001b[0;32m      1\u001b[0m \u001b[1;31m# But notice because you have converted users_age to an int, it will no longer go with concatenation with a string\u001b[0m\u001b[1;33m\u001b[0m\u001b[1;33m\u001b[0m\u001b[1;33m\u001b[0m\u001b[0m\n\u001b[0;32m      2\u001b[0m \u001b[1;31m# See below:\u001b[0m\u001b[1;33m\u001b[0m\u001b[1;33m\u001b[0m\u001b[1;33m\u001b[0m\u001b[0m\n\u001b[1;32m----> 3\u001b[1;33m \u001b[0mprint\u001b[0m\u001b[1;33m(\u001b[0m\u001b[1;34m\"Hi \"\u001b[0m \u001b[1;33m+\u001b[0m \u001b[0mfirst_name\u001b[0m \u001b[1;33m+\u001b[0m \u001b[1;34m\", wow \"\u001b[0m \u001b[1;33m+\u001b[0m \u001b[0musers_age\u001b[0m \u001b[1;33m+\u001b[0m \u001b[1;34m\" ?\"\u001b[0m \u001b[1;33m+\u001b[0m \u001b[1;34m\" That's young!\"\u001b[0m\u001b[1;33m)\u001b[0m\u001b[1;33m\u001b[0m\u001b[1;33m\u001b[0m\u001b[0m\n\u001b[0m",
      "\u001b[1;31mTypeError\u001b[0m: can only concatenate str (not \"int\") to str"
     ]
    }
   ],
   "source": [
    "# But notice because you have converted users_age to an int, it will no longer go with concatenation with a string\n",
    "# See below:\n",
    "print(\"Hi \" + first_name + \", wow \" + users_age + \" ?\" + \" That's young!\")"
   ]
  },
  {
   "cell_type": "code",
   "execution_count": 17,
   "metadata": {},
   "outputs": [
    {
     "name": "stdout",
     "output_type": "stream",
     "text": [
      "Hi Bryan, wow, 27 ? That's young!\n"
     ]
    }
   ],
   "source": [
    "# If having difficulty concatening a string to integer or the other way around...\n",
    "# We will use .format() in python\n",
    "# Example below:\n",
    "print(\"Hi \" + first_name + \", wow, {}\".format(users_age) + \" ?\" + \" That's young!\")\n",
    "\n",
    "\n",
    "# combination of \"     {}\".format(variable)\n",
    "# {} acts as a placeholder with .format() allowing input from either str or int into the str"
   ]
  }
 ],
 "metadata": {
  "kernelspec": {
   "display_name": "Python 3",
   "language": "python",
   "name": "python3"
  },
  "language_info": {
   "codemirror_mode": {
    "name": "ipython",
    "version": 3
   },
   "file_extension": ".py",
   "mimetype": "text/x-python",
   "name": "python",
   "nbconvert_exporter": "python",
   "pygments_lexer": "ipython3",
   "version": "3.8.3"
  }
 },
 "nbformat": 4,
 "nbformat_minor": 4
}
