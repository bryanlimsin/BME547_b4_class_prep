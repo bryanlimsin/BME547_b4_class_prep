{
 "cells": [
  {
   "cell_type": "code",
   "execution_count": 1,
   "metadata": {},
   "outputs": [],
   "source": [
    "# This script follows the Python basics lecture on Panopto"
   ]
  },
  {
   "cell_type": "code",
   "execution_count": 3,
   "metadata": {},
   "outputs": [
    {
     "name": "stdout",
     "output_type": "stream",
     "text": [
      "What is your age?: 27\n"
     ]
    }
   ],
   "source": [
    "# In python, we define a code block by beginning with a colon\n",
    "# Followed by indentation (4 spaces)\n",
    "# Example in an if statement\n",
    "\n",
    "users_age = input(\"What is your age?: \")"
   ]
  },
  {
   "cell_type": "code",
   "execution_count": 11,
   "metadata": {},
   "outputs": [
    {
     "name": "stdout",
     "output_type": "stream",
     "text": [
      "oops, you're older than a quarter of a century!\n"
     ]
    }
   ],
   "source": [
    "if int(users_age) < 25:\n",
    "    print(\"Congratulations, you're still young\")\n",
    "\n",
    "else: # else statements are in the same indentation level as if statements\n",
    "    print(\"oops, you're older than a quarter of a century!\")\n"
   ]
  },
  {
   "cell_type": "code",
   "execution_count": 13,
   "metadata": {},
   "outputs": [
    {
     "name": "stdout",
     "output_type": "stream",
     "text": [
      "umm 27?, I guess you're okay. At least you're not 30 yet!\n"
     ]
    }
   ],
   "source": [
    "# elif statements go inbetween if and else statements\n",
    "# elif requires a conditional statement like if\n",
    "# Can have many elif statements as you want\n",
    "\n",
    "if int(users_age) < 25:\n",
    "    print(\"Congratulations, you're still young\")\n",
    "\n",
    "elif int(users_age) == 27:\n",
    "    print(\"umm 27?, I guess you're okay. At least you're not 30 yet!\")\n",
    "    \n",
    "else: # else statements are in the same indentation level as if statements\n",
    "    print(\"oops, you're older than a quarter of a century!\")"
   ]
  },
  {
   "cell_type": "code",
   "execution_count": null,
   "metadata": {},
   "outputs": [],
   "source": []
  }
 ],
 "metadata": {
  "kernelspec": {
   "display_name": "Python 3",
   "language": "python",
   "name": "python3"
  },
  "language_info": {
   "codemirror_mode": {
    "name": "ipython",
    "version": 3
   },
   "file_extension": ".py",
   "mimetype": "text/x-python",
   "name": "python",
   "nbconvert_exporter": "python",
   "pygments_lexer": "ipython3",
   "version": "3.8.3"
  }
 },
 "nbformat": 4,
 "nbformat_minor": 4
}
